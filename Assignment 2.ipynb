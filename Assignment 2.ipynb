{
  "metadata": {
    "kernelspec": {
      "display_name": "Python 3",
      "language": "python",
      "name": "python3"
    },
    "language_info": {
      "codemirror_mode": {
        "name": "ipython",
        "version": 3
      },
      "file_extension": ".py",
      "mimetype": "text/x-python",
      "name": "python",
      "nbconvert_exporter": "python",
      "pygments_lexer": "ipython3",
      "version": "3.7.6"
    },
    "colab": {
      "name": "07-Control flow Assessment .ipynb",
      "provenance": []
    }
  },
  "nbformat_minor": 4,
  "nbformat": 4,
  "cells": [
    {
      "cell_type": "markdown",
      "source": "# Statements Assessment Test\nLet's test your knowledge!",
      "metadata": {
        "collapsed": true,
        "id": "Y-g3Lw8JNzqf",
        "jupyter": {
          "outputs_hidden": true
        }
      }
    },
    {
      "cell_type": "markdown",
      "source": "_____\n**Use <code>for</code>, .split(), and <code>if</code> to create a Statement that will print out words that start with 's':**",
      "metadata": {
        "id": "o2C0bpeiNzqx"
      }
    },
    {
      "cell_type": "code",
      "source": "st = 'Print only the words that start with s in this sentence'",
      "metadata": {
        "id": "5-bePw5mNzq0"
      },
      "outputs": [],
      "execution_count": null
    },
    {
      "cell_type": "code",
      "source": "#Code here\nfor word in s.split():\n    if word.startswith(\"s\"):\n        print(word)",
      "metadata": {
        "id": "NSyXIAIeNzq5",
        "outputId": "36815eee-a8ab-4ed6-aa49-6a5e1409c180"
      },
      "outputs": [
        {
          "name": "stdout",
          "output_type": "stream",
          "text": "start\n,s\n,sentence\n"
        }
      ],
      "execution_count": null
    },
    {
      "cell_type": "markdown",
      "source": "______\n**Use range() to print all the even numbers from 0 to 10.**",
      "metadata": {
        "id": "XzQqE9xVNzq-"
      }
    },
    {
      "cell_type": "code",
      "source": "#Code Here\nfor num in range (0, 11):\n    if num % 2 == 0:\n        print(num)",
      "metadata": {
        "id": "V52EPZgZNzrA",
        "outputId": "9bacaaa3-b425-4164-87b4-ba4b5bb788db"
      },
      "outputs": [
        {
          "data": {
            "text/plain": [
              "[0, 2, 4, 6, 8, 10]"
            ]
          },
          "execution_count": 4,
          "metadata": {},
          "output_type": "execute_result"
        }
      ],
      "execution_count": null
    },
    {
      "cell_type": "markdown",
      "source": "___\n**Use a List Comprehension to create a list of all numbers between 1 and 50 that are divisible by 3.**",
      "metadata": {
        "id": "Ex5Oc-prNzrD"
      }
    },
    {
      "cell_type": "code",
      "source": "#Code in this cell\nnumbers = [x for x in range(1, 51) \n           if x % 3 == 0]\nprint(numbers)",
      "metadata": {
        "id": "8jsKddXPNzrG",
        "outputId": "56907c73-1e4e-4782-afe1-9e7b657f5435"
      },
      "outputs": [
        {
          "data": {
            "text/plain": [
              "[3, 6, 9, 12, 15, 18, 21, 24, 27, 30, 33, 36, 39, 42, 45, 48]"
            ]
          },
          "execution_count": 5,
          "metadata": {},
          "output_type": "execute_result"
        }
      ],
      "execution_count": null
    },
    {
      "cell_type": "markdown",
      "source": "_____\n**Go through the string below and if the length of a word is even print \"even!\"**",
      "metadata": {
        "id": "EqhlZPKDNzrJ"
      }
    },
    {
      "cell_type": "code",
      "source": "st = 'Print every word in this sentence that has an even number of letters'",
      "metadata": {
        "id": "VEXJ2bIjNzrM"
      },
      "outputs": [],
      "execution_count": null
    },
    {
      "cell_type": "code",
      "source": "#Code in this cell\nst = 'print every word in this sentence that has an even number of letters'\n\nfor word in st.split():\n    if len(word) % 2 == 0:\n        print(f\"{word,} --> even\")\n",
      "metadata": {
        "id": "PW7C84AQNzrO",
        "outputId": "a61dfe50-de48-40b4-db82-a200ff6d89e0"
      },
      "outputs": [
        {
          "name": "stdout",
          "output_type": "stream",
          "text": "word\n,in\n,this\n,sentence\n,that\n,an\n,even\n,number\n,of\n"
        }
      ],
      "execution_count": null
    },
    {
      "cell_type": "markdown",
      "source": "____\n**Write a program that prints the integers from 1 to 100. But for multiples of three print \"Fizz\" instead of the number, and for the multiples of five print \"Buzz\". For numbers which are multiples of both three and five print \"FizzBuzz\".**",
      "metadata": {
        "id": "CoC7Emh3NzrR"
      }
    },
    {
      "cell_type": "code",
      "source": "#enter code here\nfor num in range(1,101):\n    if num % 3 ==0 and num % 5 == 0:\n        print('FizzBuzz')\n    elif num % 3 == 0:\n        print('Fizz')\n    elif num % 5 == 0:\n        print('Buzz')\n    else:\n        print(num)",
      "metadata": {
        "id": "qepkA5jcNzrT",
        "outputId": "cabd8ceb-a8ac-47be-f80e-2405baa715ac"
      },
      "outputs": [
        {
          "name": "stdout",
          "output_type": "stream",
          "text": "1\n,2\n,Fizz\n,4\n,Buzz\n,Fizz\n,7\n,8\n,Fizz\n,Buzz\n,11\n,Fizz\n,13\n,14\n,FizzBuzz\n,16\n,17\n,Fizz\n,19\n,Buzz\n,Fizz\n,22\n,23\n,Fizz\n,Buzz\n,26\n,Fizz\n,28\n,29\n,FizzBuzz\n,31\n,32\n,Fizz\n,34\n,Buzz\n,Fizz\n,37\n,38\n,Fizz\n,Buzz\n,41\n,Fizz\n,43\n,44\n,FizzBuzz\n,46\n,47\n,Fizz\n,49\n,Buzz\n,Fizz\n,52\n,53\n,Fizz\n,Buzz\n,56\n,Fizz\n,58\n,59\n,FizzBuzz\n,61\n,62\n,Fizz\n,64\n,Buzz\n,Fizz\n,67\n,68\n,Fizz\n,Buzz\n,71\n,Fizz\n,73\n,74\n,FizzBuzz\n,76\n,77\n,Fizz\n,79\n,Buzz\n,Fizz\n,82\n,83\n,Fizz\n,Buzz\n,86\n,Fizz\n,88\n,89\n,FizzBuzz\n,91\n,92\n,Fizz\n,94\n,Buzz\n,Fizz\n,97\n,98\n,Fizz\n,Buzz\n"
        }
      ],
      "execution_count": null
    },
    {
      "cell_type": "markdown",
      "source": "____\n**Use List Comprehension to create a list of the first letters of every word in the string below:**",
      "metadata": {
        "id": "NnSBZizfNzrW"
      }
    },
    {
      "cell_type": "code",
      "source": "st = 'Create a list of the first letters of every word in this string'",
      "metadata": {
        "id": "m1Uc0YU2NzrY"
      },
      "outputs": [],
      "execution_count": null
    },
    {
      "cell_type": "code",
      "source": "#Code in this cell\nst = 'create a list of the first letters of every word in this string'\n\nfirst_letters = [word[0] for word in st.split()]\nprint(first_letters)",
      "metadata": {
        "id": "IatzV0lzNzra",
        "outputId": "a3b0e5cd-929f-49a2-be7c-d9c263b3e6cc"
      },
      "outputs": [
        {
          "data": {
            "text/plain": [
              "['C', 'a', 'l', 'o', 't', 'f', 'l', 'o', 'e', 'w', 'i', 't', 's']"
            ]
          },
          "execution_count": 14,
          "metadata": {},
          "output_type": "execute_result"
        }
      ],
      "execution_count": null
    },
    {
      "cell_type": "code",
      "source": "",
      "metadata": {
        "id": "EIk_R2obNzrd"
      },
      "outputs": [],
      "execution_count": null
    },
    {
      "cell_type": "markdown",
      "source": "### Great Job!",
      "metadata": {
        "id": "YzW8n2ozNzre"
      }
    },
    {
      "cell_type": "code",
      "source": "",
      "metadata": {
        "id": "D6YKhBLYNzrf"
      },
      "outputs": [],
      "execution_count": null
    }
  ]
}